{
 "cells": [
  {
   "cell_type": "markdown",
   "id": "dba8cd81",
   "metadata": {},
   "source": [
    "**Objective**:\n",
    "\n",
    "- Momoized fibonacci implementation\n"
   ]
  },
  {
   "cell_type": "markdown",
   "id": "fee2eae7",
   "metadata": {},
   "source": [
    "# Fibonacci"
   ]
  },
  {
   "cell_type": "markdown",
   "id": "43761e9e",
   "metadata": {},
   "source": [
    "## Unmemoised"
   ]
  },
  {
   "cell_type": "code",
   "execution_count": 1,
   "id": "7abeb6c1",
   "metadata": {
    "ExecuteTime": {
     "end_time": "2021-09-23T06:07:46.749660Z",
     "start_time": "2021-09-23T06:07:46.745313Z"
    }
   },
   "outputs": [],
   "source": [
    "import traceback\n"
   ]
  },
  {
   "cell_type": "code",
   "execution_count": 2,
   "id": "bfc62e2f",
   "metadata": {
    "ExecuteTime": {
     "end_time": "2021-09-23T06:07:46.764755Z",
     "start_time": "2021-09-23T06:07:46.758284Z"
    }
   },
   "outputs": [],
   "source": [
    "def fib(n: int) -> int:\n",
    "    if n <= 2:\n",
    "        return 1\n",
    "    return fib(n - 1) + fib(n - 2)"
   ]
  },
  {
   "cell_type": "markdown",
   "id": "01d452e1",
   "metadata": {},
   "source": [
    "## Memoised"
   ]
  },
  {
   "cell_type": "code",
   "execution_count": 3,
   "id": "985a4da8",
   "metadata": {
    "ExecuteTime": {
     "end_time": "2021-09-23T06:07:46.777713Z",
     "start_time": "2021-09-23T06:07:46.768502Z"
    }
   },
   "outputs": [],
   "source": [
    "def fib_mem(n: int, memo={}) -> int:\n",
    "    if n <= 2:\n",
    "        return 1\n",
    "    if n in memo:\n",
    "        return memo.get(n)\n",
    "    memo[n] = fib_mem(n - 1) + fib_mem(n - 2)\n",
    "    return memo[n]"
   ]
  },
  {
   "cell_type": "markdown",
   "id": "fc7dbcdf",
   "metadata": {},
   "source": [
    "# Comparison"
   ]
  },
  {
   "cell_type": "code",
   "execution_count": 4,
   "id": "4902a1dc",
   "metadata": {
    "ExecuteTime": {
     "end_time": "2021-09-23T06:07:47.060736Z",
     "start_time": "2021-09-23T06:07:46.782707Z"
    }
   },
   "outputs": [
    {
     "name": "stdout",
     "output_type": "stream",
     "text": [
      "CPU times: user 243 ms, sys: 5.48 ms, total: 248 ms\n",
      "Wall time: 251 ms\n"
     ]
    },
    {
     "data": {
      "text/plain": [
       "832040"
      ]
     },
     "execution_count": 4,
     "metadata": {},
     "output_type": "execute_result"
    }
   ],
   "source": [
    "%%time\n",
    "fib(30)"
   ]
  },
  {
   "cell_type": "code",
   "execution_count": 5,
   "id": "c5f6847d",
   "metadata": {
    "ExecuteTime": {
     "end_time": "2021-09-23T06:07:47.120641Z",
     "start_time": "2021-09-23T06:07:47.071539Z"
    }
   },
   "outputs": [
    {
     "name": "stdout",
     "output_type": "stream",
     "text": [
      "CPU times: user 47 µs, sys: 7 µs, total: 54 µs\n",
      "Wall time: 47.2 µs\n"
     ]
    },
    {
     "data": {
      "text/plain": [
       "832040"
      ]
     },
     "execution_count": 5,
     "metadata": {},
     "output_type": "execute_result"
    }
   ],
   "source": [
    "%%time\n",
    "fib_mem(30)"
   ]
  }
 ],
 "metadata": {
  "hide_input": false,
  "kernelspec": {
   "display_name": "Python 3",
   "language": "python",
   "name": "python3"
  },
  "language_info": {
   "codemirror_mode": {
    "name": "ipython",
    "version": 3
   },
   "file_extension": ".py",
   "mimetype": "text/x-python",
   "name": "python",
   "nbconvert_exporter": "python",
   "pygments_lexer": "ipython3",
   "version": "3.9.4"
  },
  "toc": {
   "base_numbering": 1,
   "nav_menu": {},
   "number_sections": true,
   "sideBar": true,
   "skip_h1_title": false,
   "title_cell": "Table of Contents",
   "title_sidebar": "Contents",
   "toc_cell": false,
   "toc_position": {},
   "toc_section_display": true,
   "toc_window_display": false
  }
 },
 "nbformat": 4,
 "nbformat_minor": 5
}
